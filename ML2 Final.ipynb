{
 "cells": [
  {
   "cell_type": "markdown",
   "id": "43520e3d-e1c5-4891-acd0-db9c7febcd2c",
   "metadata": {},
   "source": [
    "#### Summary\n",
    "\n",
    "In this Jupyter notebook we are going to take a dataset that includes a number of student performance factors and seek to lower the dimensionality of the features through PCA. After that, we are going to attempt to categorize students into different groups using both the reduced features as well as the non-reduced features through NMF. Finally, we will attempt to predict a student's final exam score using these classifications. Before startting, I am unsure of how accurate we will be able to get with this method but it is interesting to me from a theoretical standpoint."
   ]
  },
  {
   "cell_type": "code",
   "execution_count": 181,
   "id": "3cd72857-47d0-452f-a6bf-71ab9d0bca33",
   "metadata": {},
   "outputs": [],
   "source": [
    "import pandas as pd\n",
    "import matplotlib.pyplot as plt\n",
    "import numpy as np\n",
    "import itertools\n",
    "from sklearn.preprocessing import StandardScaler\n",
    "from sklearn.model_selection import train_test_split\n",
    "from sklearn.linear_model import LinearRegression\n",
    "from sklearn.metrics import accuracy_score, confusion_matrix\n",
    "from sklearn.decomposition import PCA, NMF\n",
    "import time\n",
    "from seaborn import heatmap"
   ]
  },
  {
   "cell_type": "markdown",
   "id": "8500c323-61d0-4360-9e3b-d6ebe1a5bc90",
   "metadata": {},
   "source": [
    "#### EDA And Data Cleaning\n",
    "\n",
    "First let's import the data and do some preliminary analysis to see what we have. The data comes from https://www.kaggle.com/datasets/lainguyn123/student-performance-factors/data and is a collection of student performance factors. It includes the categories below."
   ]
  },
  {
   "cell_type": "code",
   "execution_count": 182,
   "id": "f334a827-b042-4a4d-8738-f9746c40d317",
   "metadata": {},
   "outputs": [
    {
     "name": "stdout",
     "output_type": "stream",
     "text": [
      "<class 'pandas.core.frame.DataFrame'>\n",
      "Index: 6378 entries, 0 to 6606\n",
      "Data columns (total 20 columns):\n",
      " #   Column                      Non-Null Count  Dtype \n",
      "---  ------                      --------------  ----- \n",
      " 0   Hours_Studied               6378 non-null   int64 \n",
      " 1   Attendance                  6378 non-null   int64 \n",
      " 2   Parental_Involvement        6378 non-null   object\n",
      " 3   Access_to_Resources         6378 non-null   object\n",
      " 4   Extracurricular_Activities  6378 non-null   object\n",
      " 5   Sleep_Hours                 6378 non-null   int64 \n",
      " 6   Previous_Scores             6378 non-null   int64 \n",
      " 7   Motivation_Level            6378 non-null   object\n",
      " 8   Internet_Access             6378 non-null   object\n",
      " 9   Tutoring_Sessions           6378 non-null   int64 \n",
      " 10  Family_Income               6378 non-null   object\n",
      " 11  Teacher_Quality             6378 non-null   object\n",
      " 12  School_Type                 6378 non-null   object\n",
      " 13  Peer_Influence              6378 non-null   object\n",
      " 14  Physical_Activity           6378 non-null   int64 \n",
      " 15  Learning_Disabilities       6378 non-null   object\n",
      " 16  Parental_Education_Level    6378 non-null   object\n",
      " 17  Distance_from_Home          6378 non-null   object\n",
      " 18  Gender                      6378 non-null   object\n",
      " 19  Exam_Score                  6378 non-null   int64 \n",
      "dtypes: int64(7), object(13)\n",
      "memory usage: 1.0+ MB\n",
      "None\n"
     ]
    }
   ],
   "source": [
    "data = pd.read_csv(\"data/StudentPerformanceFactors.csv\")\n",
    "data.dropna(inplace = True)\n",
    "print(data.info())\n",
    "\n",
    "#Creating an array with the final score for later comparison\n",
    "scores = data[\"Exam_Score\"]\n",
    "categories = len(scores.unique())\n",
    "\n",
    "data.drop(columns = \"Exam_Score\", inplace = True)\n"
   ]
  },
  {
   "cell_type": "markdown",
   "id": "1a0de9c1-619c-4125-9d5e-f6a795795580",
   "metadata": {},
   "source": [
    "As we can see, we have quite a few columns that are filled with objects that we need to change to be numbers."
   ]
  },
  {
   "cell_type": "code",
   "execution_count": 183,
   "id": "2f1d9b9b-1ed4-4912-8611-7d5309a55460",
   "metadata": {},
   "outputs": [],
   "source": [
    "codes = {}\n",
    "data[\"Parental_Involvement\"], codes[\"Parental_Involvement\"] = pd.factorize(data[\"Parental_Involvement\"])\n",
    "data[\"Access_to_Resources\"], codes[\"Access_to_Resources\"] = pd.factorize(data[\"Access_to_Resources\"])\n",
    "data[\"Extracurricular_Activities\"], codes[\"Extracurricular_Activities\"] = pd.factorize(data[\"Extracurricular_Activities\"])\n",
    "data[\"Motivation_Level\"], codes[\"Motivation_Level\"] = pd.factorize(data[\"Motivation_Level\"])\n",
    "data[\"Internet_Access\"], codes[\"Internet_Access\"] = pd.factorize(data[\"Internet_Access\"])\n",
    "data[\"Family_Income\"], codes[\"Family_Income\"] = pd.factorize(data[\"Family_Income\"])\n",
    "data[\"Teacher_Quality\"], codes[\"Teacher_Quality\"] = pd.factorize(data[\"Teacher_Quality\"])\n",
    "data[\"School_Type\"], codes[\"School_Type\"] = pd.factorize(data[\"School_Type\"])\n",
    "data[\"Peer_Influence\"], codes[\"Peer_Influence\"] = pd.factorize(data[\"Peer_Influence\"])\n",
    "data[\"Learning_Disabilities\"], codes[\"Learning_Disabilities\"] = pd.factorize(data[\"Learning_Disabilities\"])\n",
    "data[\"Parental_Education_Level\"], codes[\"Parental_Education_Level\"] = pd.factorize(data[\"Parental_Education_Level\"])\n",
    "data[\"Distance_from_Home\"], codes[\"Distance_from_Home\"] = pd.factorize(data[\"Distance_from_Home\"])\n",
    "data[\"Gender\"], codes[\"Gender\"] = pd.factorize(data[\"Gender\"])"
   ]
  },
  {
   "cell_type": "code",
   "execution_count": 184,
   "id": "511550ef-56f5-4de4-84cd-735318c3e3f7",
   "metadata": {},
   "outputs": [
    {
     "name": "stdout",
     "output_type": "stream",
     "text": [
      "<class 'pandas.core.frame.DataFrame'>\n",
      "Index: 6378 entries, 0 to 6606\n",
      "Data columns (total 19 columns):\n",
      " #   Column                      Non-Null Count  Dtype\n",
      "---  ------                      --------------  -----\n",
      " 0   Hours_Studied               6378 non-null   int64\n",
      " 1   Attendance                  6378 non-null   int64\n",
      " 2   Parental_Involvement        6378 non-null   int64\n",
      " 3   Access_to_Resources         6378 non-null   int64\n",
      " 4   Extracurricular_Activities  6378 non-null   int64\n",
      " 5   Sleep_Hours                 6378 non-null   int64\n",
      " 6   Previous_Scores             6378 non-null   int64\n",
      " 7   Motivation_Level            6378 non-null   int64\n",
      " 8   Internet_Access             6378 non-null   int64\n",
      " 9   Tutoring_Sessions           6378 non-null   int64\n",
      " 10  Family_Income               6378 non-null   int64\n",
      " 11  Teacher_Quality             6378 non-null   int64\n",
      " 12  School_Type                 6378 non-null   int64\n",
      " 13  Peer_Influence              6378 non-null   int64\n",
      " 14  Physical_Activity           6378 non-null   int64\n",
      " 15  Learning_Disabilities       6378 non-null   int64\n",
      " 16  Parental_Education_Level    6378 non-null   int64\n",
      " 17  Distance_from_Home          6378 non-null   int64\n",
      " 18  Gender                      6378 non-null   int64\n",
      "dtypes: int64(19)\n",
      "memory usage: 996.6 KB\n",
      "None\n"
     ]
    },
    {
     "data": {
      "image/png": "[encoded data removed]",
      "text/plain": [
       "<Figure size 640x480 with 1 Axes>"
      ]
     },
     "metadata": {},
     "output_type": "display_data"
    }
   ],
   "source": [
    "print(data.info())\n",
    "for column in data.columns:\n",
    "    data[column].hist()"
   ]
  },
  {
   "cell_type": "code",
   "execution_count": 185,
   "id": "02707f6f-6796-45e7-942d-f62fd431f505",
   "metadata": {},
   "outputs": [
    {
     "data": {
      "text/plain": [
       "<Axes: >"
      ]
     },
     "execution_count": 185,
     "metadata": {},
     "output_type": "execute_result"
    },
    {
     "data": {
      "image/png": "[encoded data removed]",
      "text/plain": [
       "<Figure size 640x480 with 1 Axes>"
      ]
     },
     "metadata": {},
     "output_type": "display_data"
    }
   ],
   "source": [
    "scores.hist()"
   ]
  },
  {
   "cell_type": "code",
   "execution_count": 186,
   "id": "b0d98182-828a-48d2-9cc6-41fead2f2ae6",
   "metadata": {},
   "outputs": [
    {
     "data": {
      "text/html": [
       "<div>\n",
       "<style scoped>\n",
       "    .dataframe tbody tr th:only-of-type {\n",
       "        vertical-align: middle;\n",
       "    }\n",
       "\n",
       "    .dataframe tbody tr th {\n",
       "        vertical-align: top;\n",
       "    }\n",
       "\n",
       "    .dataframe thead th {\n",
       "        text-align: right;\n",
       "    }\n",
       "</style>\n",
       "<table border=\"1\" class=\"dataframe\">\n",
       "  <thead>\n",
       "    <tr style=\"text-align: right;\">\n",
       "      <th></th>\n",
       "      <th>Hours_Studied</th>\n",
       "      <th>Attendance</th>\n",
       "      <th>Parental_Involvement</th>\n",
       "      <th>Access_to_Resources</th>\n",
       "      <th>Extracurricular_Activities</th>\n",
       "      <th>Sleep_Hours</th>\n",
       "      <th>Previous_Scores</th>\n",
       "      <th>Motivation_Level</th>\n",
       "      <th>Internet_Access</th>\n",
       "      <th>Tutoring_Sessions</th>\n",
       "      <th>Family_Income</th>\n",
       "      <th>Teacher_Quality</th>\n",
       "      <th>School_Type</th>\n",
       "      <th>Peer_Influence</th>\n",
       "      <th>Physical_Activity</th>\n",
       "      <th>Learning_Disabilities</th>\n",
       "      <th>Parental_Education_Level</th>\n",
       "      <th>Distance_from_Home</th>\n",
       "      <th>Gender</th>\n",
       "    </tr>\n",
       "  </thead>\n",
       "  <tbody>\n",
       "    <tr>\n",
       "      <th>count</th>\n",
       "      <td>6378.000000</td>\n",
       "      <td>6378.000000</td>\n",
       "      <td>6378.00000</td>\n",
       "      <td>6378.000000</td>\n",
       "      <td>6378.000000</td>\n",
       "      <td>6378.000000</td>\n",
       "      <td>6378.000000</td>\n",
       "      <td>6378.000000</td>\n",
       "      <td>6378.000000</td>\n",
       "      <td>6378.000000</td>\n",
       "      <td>6378.000000</td>\n",
       "      <td>6378.000000</td>\n",
       "      <td>6378.000000</td>\n",
       "      <td>6378.000000</td>\n",
       "      <td>6378.000000</td>\n",
       "      <td>6378.000000</td>\n",
       "      <td>6378.000000</td>\n",
       "      <td>6378.000000</td>\n",
       "      <td>6378.000000</td>\n",
       "    </tr>\n",
       "    <tr>\n",
       "      <th>mean</th>\n",
       "      <td>19.977109</td>\n",
       "      <td>80.020853</td>\n",
       "      <td>1.08545</td>\n",
       "      <td>0.901850</td>\n",
       "      <td>0.596896</td>\n",
       "      <td>7.034964</td>\n",
       "      <td>75.066165</td>\n",
       "      <td>0.907965</td>\n",
       "      <td>0.076043</td>\n",
       "      <td>1.495296</td>\n",
       "      <td>0.788021</td>\n",
       "      <td>0.501568</td>\n",
       "      <td>0.304798</td>\n",
       "      <td>0.990906</td>\n",
       "      <td>2.972719</td>\n",
       "      <td>0.104735</td>\n",
       "      <td>0.705394</td>\n",
       "      <td>0.503763</td>\n",
       "      <td>0.421762</td>\n",
       "    </tr>\n",
       "    <tr>\n",
       "      <th>std</th>\n",
       "      <td>5.985460</td>\n",
       "      <td>11.550723</td>\n",
       "      <td>0.69502</td>\n",
       "      <td>0.698635</td>\n",
       "      <td>0.490560</td>\n",
       "      <td>1.468033</td>\n",
       "      <td>14.400389</td>\n",
       "      <td>0.695758</td>\n",
       "      <td>0.265087</td>\n",
       "      <td>1.233984</td>\n",
       "      <td>0.743526</td>\n",
       "      <td>0.673018</td>\n",
       "      <td>0.460358</td>\n",
       "      <td>0.889670</td>\n",
       "      <td>1.028926</td>\n",
       "      <td>0.306236</td>\n",
       "      <td>0.780570</td>\n",
       "      <td>0.670442</td>\n",
       "      <td>0.493880</td>\n",
       "    </tr>\n",
       "    <tr>\n",
       "      <th>min</th>\n",
       "      <td>1.000000</td>\n",
       "      <td>60.000000</td>\n",
       "      <td>0.00000</td>\n",
       "      <td>0.000000</td>\n",
       "      <td>0.000000</td>\n",
       "      <td>4.000000</td>\n",
       "      <td>50.000000</td>\n",
       "      <td>0.000000</td>\n",
       "      <td>0.000000</td>\n",
       "      <td>0.000000</td>\n",
       "      <td>0.000000</td>\n",
       "      <td>0.000000</td>\n",
       "      <td>0.000000</td>\n",
       "      <td>0.000000</td>\n",
       "      <td>0.000000</td>\n",
       "      <td>0.000000</td>\n",
       "      <td>0.000000</td>\n",
       "      <td>0.000000</td>\n",
       "      <td>0.000000</td>\n",
       "    </tr>\n",
       "    <tr>\n",
       "      <th>25%</th>\n",
       "      <td>16.000000</td>\n",
       "      <td>70.000000</td>\n",
       "      <td>1.00000</td>\n",
       "      <td>0.000000</td>\n",
       "      <td>0.000000</td>\n",
       "      <td>6.000000</td>\n",
       "      <td>63.000000</td>\n",
       "      <td>0.000000</td>\n",
       "      <td>0.000000</td>\n",
       "      <td>1.000000</td>\n",
       "      <td>0.000000</td>\n",
       "      <td>0.000000</td>\n",
       "      <td>0.000000</td>\n",
       "      <td>0.000000</td>\n",
       "      <td>2.000000</td>\n",
       "      <td>0.000000</td>\n",
       "      <td>0.000000</td>\n",
       "      <td>0.000000</td>\n",
       "      <td>0.000000</td>\n",
       "    </tr>\n",
       "    <tr>\n",
       "      <th>50%</th>\n",
       "      <td>20.000000</td>\n",
       "      <td>80.000000</td>\n",
       "      <td>1.00000</td>\n",
       "      <td>1.000000</td>\n",
       "      <td>1.000000</td>\n",
       "      <td>7.000000</td>\n",
       "      <td>75.000000</td>\n",
       "      <td>1.000000</td>\n",
       "      <td>0.000000</td>\n",
       "      <td>1.000000</td>\n",
       "      <td>1.000000</td>\n",
       "      <td>0.000000</td>\n",
       "      <td>0.000000</td>\n",
       "      <td>1.000000</td>\n",
       "      <td>3.000000</td>\n",
       "      <td>0.000000</td>\n",
       "      <td>1.000000</td>\n",
       "      <td>0.000000</td>\n",
       "      <td>0.000000</td>\n",
       "    </tr>\n",
       "    <tr>\n",
       "      <th>75%</th>\n",
       "      <td>24.000000</td>\n",
       "      <td>90.000000</td>\n",
       "      <td>2.00000</td>\n",
       "      <td>1.000000</td>\n",
       "      <td>1.000000</td>\n",
       "      <td>8.000000</td>\n",
       "      <td>88.000000</td>\n",
       "      <td>1.000000</td>\n",
       "      <td>0.000000</td>\n",
       "      <td>2.000000</td>\n",
       "      <td>1.000000</td>\n",
       "      <td>1.000000</td>\n",
       "      <td>1.000000</td>\n",
       "      <td>2.000000</td>\n",
       "      <td>4.000000</td>\n",
       "      <td>0.000000</td>\n",
       "      <td>1.000000</td>\n",
       "      <td>1.000000</td>\n",
       "      <td>1.000000</td>\n",
       "    </tr>\n",
       "    <tr>\n",
       "      <th>max</th>\n",
       "      <td>44.000000</td>\n",
       "      <td>100.000000</td>\n",
       "      <td>2.00000</td>\n",
       "      <td>2.000000</td>\n",
       "      <td>1.000000</td>\n",
       "      <td>10.000000</td>\n",
       "      <td>100.000000</td>\n",
       "      <td>2.000000</td>\n",
       "      <td>1.000000</td>\n",
       "      <td>8.000000</td>\n",
       "      <td>2.000000</td>\n",
       "      <td>2.000000</td>\n",
       "      <td>1.000000</td>\n",
       "      <td>2.000000</td>\n",
       "      <td>6.000000</td>\n",
       "      <td>1.000000</td>\n",
       "      <td>2.000000</td>\n",
       "      <td>2.000000</td>\n",
       "      <td>1.000000</td>\n",
       "    </tr>\n",
       "  </tbody>\n",
       "</table>\n",
       "</div>"
      ],
      "text/plain": [
       "       Hours_Studied   Attendance  Parental_Involvement  Access_to_Resources  \\\n",
       "count    6378.000000  6378.000000            6378.00000          6378.000000   \n",
       "mean       19.977109    80.020853               1.08545             0.901850   \n",
       "std         5.985460    11.550723               0.69502             0.698635   \n",
       "min         1.000000    60.000000               0.00000             0.000000   \n",
       "25%        16.000000    70.000000               1.00000             0.000000   \n",
       "50%        20.000000    80.000000               1.00000             1.000000   \n",
       "75%        24.000000    90.000000               2.00000             1.000000   \n",
       "max        44.000000   100.000000               2.00000             2.000000   \n",
       "\n",
       "       Extracurricular_Activities  Sleep_Hours  Previous_Scores  \\\n",
       "count                 6378.000000  6378.000000      6378.000000   \n",
       "mean                     0.596896     7.034964        75.066165   \n",
       "std                      0.490560     1.468033        14.400389   \n",
       "min                      0.000000     4.000000        50.000000   \n",
       "25%                      0.000000     6.000000        63.000000   \n",
       "50%                      1.000000     7.000000        75.000000   \n",
       "75%                      1.000000     8.000000        88.000000   \n",
       "max                      1.000000    10.000000       100.000000   \n",
       "\n",
       "       Motivation_Level  Internet_Access  Tutoring_Sessions  Family_Income  \\\n",
       "count       6378.000000      6378.000000        6378.000000    6378.000000   \n",
       "mean           0.907965         0.076043           1.495296       0.788021   \n",
       "std            0.695758         0.265087           1.233984       0.743526   \n",
       "min            0.000000         0.000000           0.000000       0.000000   \n",
       "25%            0.000000         0.000000           1.000000       0.000000   \n",
       "50%            1.000000         0.000000           1.000000       1.000000   \n",
       "75%            1.000000         0.000000           2.000000       1.000000   \n",
       "max            2.000000         1.000000           8.000000       2.000000   \n",
       "\n",
       "       Teacher_Quality  School_Type  Peer_Influence  Physical_Activity  \\\n",
       "count      6378.000000  6378.000000     6378.000000        6378.000000   \n",
       "mean          0.501568     0.304798        0.990906           2.972719   \n",
       "std           0.673018     0.460358        0.889670           1.028926   \n",
       "min           0.000000     0.000000        0.000000           0.000000   \n",
       "25%           0.000000     0.000000        0.000000           2.000000   \n",
       "50%           0.000000     0.000000        1.000000           3.000000   \n",
       "75%           1.000000     1.000000        2.000000           4.000000   \n",
       "max           2.000000     1.000000        2.000000           6.000000   \n",
       "\n",
       "       Learning_Disabilities  Parental_Education_Level  Distance_from_Home  \\\n",
       "count            6378.000000               6378.000000         6378.000000   \n",
       "mean                0.104735                  0.705394            0.503763   \n",
       "std                 0.306236                  0.780570            0.670442   \n",
       "min                 0.000000                  0.000000            0.000000   \n",
       "25%                 0.000000                  0.000000            0.000000   \n",
       "50%                 0.000000                  1.000000            0.000000   \n",
       "75%                 0.000000                  1.000000            1.000000   \n",
       "max                 1.000000                  2.000000            2.000000   \n",
       "\n",
       "            Gender  \n",
       "count  6378.000000  \n",
       "mean      0.421762  \n",
       "std       0.493880  \n",
       "min       0.000000  \n",
       "25%       0.000000  \n",
       "50%       0.000000  \n",
       "75%       1.000000  \n",
       "max       1.000000  "
      ]
     },
     "execution_count": 186,
     "metadata": {},
     "output_type": "execute_result"
    }
   ],
   "source": [
    "data.describe()"
   ]
  },
  {
   "cell_type": "markdown",
   "id": "66a39b71-723c-4d37-9c54-06bcdd0c51c0",
   "metadata": {},
   "source": [
    "From the above, we can get a better idea of the various pieces of each of the columns, even if a histogram of all the columns at once isn't the most useful. It shows us succinctly that all of the columns will have values between 0 and 100, with most of them being between 0 and 10. However, lets normalize every column to have values between 0 and 1."
   ]
  },
  {
   "cell_type": "code",
   "execution_count": 187,
   "id": "aa44e996-e154-4a3b-8166-285111942366",
   "metadata": {},
   "outputs": [],
   "source": [
    "scaling = StandardScaler()\n",
    "scaling.fit(data)\n",
    "normed_data = pd.DataFrame(scaling.transform(data))"
   ]
  },
  {
   "cell_type": "code",
   "execution_count": 188,
   "id": "8db764a0-5256-461c-8645-75796a34255b",
   "metadata": {},
   "outputs": [
    {
     "data": {
      "text/html": [
       "<div>\n",
       "<style scoped>\n",
       "    .dataframe tbody tr th:only-of-type {\n",
       "        vertical-align: middle;\n",
       "    }\n",
       "\n",
       "    .dataframe tbody tr th {\n",
       "        vertical-align: top;\n",
       "    }\n",
       "\n",
       "    .dataframe thead th {\n",
       "        text-align: right;\n",
       "    }\n",
       "</style>\n",
       "<table border=\"1\" class=\"dataframe\">\n",
       "  <thead>\n",
       "    <tr style=\"text-align: right;\">\n",
       "      <th></th>\n",
       "      <th>0</th>\n",
       "      <th>1</th>\n",
       "      <th>2</th>\n",
       "      <th>3</th>\n",
       "      <th>4</th>\n",
       "      <th>5</th>\n",
       "      <th>6</th>\n",
       "      <th>7</th>\n",
       "      <th>8</th>\n",
       "      <th>9</th>\n",
       "      <th>10</th>\n",
       "      <th>11</th>\n",
       "      <th>12</th>\n",
       "      <th>13</th>\n",
       "      <th>14</th>\n",
       "      <th>15</th>\n",
       "      <th>16</th>\n",
       "      <th>17</th>\n",
       "      <th>18</th>\n",
       "    </tr>\n",
       "  </thead>\n",
       "  <tbody>\n",
       "    <tr>\n",
       "      <th>count</th>\n",
       "      <td>6.378000e+03</td>\n",
       "      <td>6.378000e+03</td>\n",
       "      <td>6.378000e+03</td>\n",
       "      <td>6.378000e+03</td>\n",
       "      <td>6.378000e+03</td>\n",
       "      <td>6.378000e+03</td>\n",
       "      <td>6.378000e+03</td>\n",
       "      <td>6.378000e+03</td>\n",
       "      <td>6.378000e+03</td>\n",
       "      <td>6.378000e+03</td>\n",
       "      <td>6.378000e+03</td>\n",
       "      <td>6.378000e+03</td>\n",
       "      <td>6.378000e+03</td>\n",
       "      <td>6.378000e+03</td>\n",
       "      <td>6.378000e+03</td>\n",
       "      <td>6.378000e+03</td>\n",
       "      <td>6.378000e+03</td>\n",
       "      <td>6.378000e+03</td>\n",
       "      <td>6.378000e+03</td>\n",
       "    </tr>\n",
       "    <tr>\n",
       "      <th>mean</th>\n",
       "      <td>-1.693360e-16</td>\n",
       "      <td>5.458858e-16</td>\n",
       "      <td>-7.686963e-17</td>\n",
       "      <td>-4.372656e-17</td>\n",
       "      <td>1.671079e-17</td>\n",
       "      <td>-1.030499e-16</td>\n",
       "      <td>4.634459e-16</td>\n",
       "      <td>-7.241342e-17</td>\n",
       "      <td>7.297044e-17</td>\n",
       "      <td>1.002647e-17</td>\n",
       "      <td>-5.347452e-17</td>\n",
       "      <td>-2.228105e-17</td>\n",
       "      <td>-7.352747e-17</td>\n",
       "      <td>7.018531e-17</td>\n",
       "      <td>8.021179e-17</td>\n",
       "      <td>-6.238694e-17</td>\n",
       "      <td>7.464152e-17</td>\n",
       "      <td>-8.021179e-17</td>\n",
       "      <td>-1.236598e-16</td>\n",
       "    </tr>\n",
       "    <tr>\n",
       "      <th>std</th>\n",
       "      <td>1.000078e+00</td>\n",
       "      <td>1.000078e+00</td>\n",
       "      <td>1.000078e+00</td>\n",
       "      <td>1.000078e+00</td>\n",
       "      <td>1.000078e+00</td>\n",
       "      <td>1.000078e+00</td>\n",
       "      <td>1.000078e+00</td>\n",
       "      <td>1.000078e+00</td>\n",
       "      <td>1.000078e+00</td>\n",
       "      <td>1.000078e+00</td>\n",
       "      <td>1.000078e+00</td>\n",
       "      <td>1.000078e+00</td>\n",
       "      <td>1.000078e+00</td>\n",
       "      <td>1.000078e+00</td>\n",
       "      <td>1.000078e+00</td>\n",
       "      <td>1.000078e+00</td>\n",
       "      <td>1.000078e+00</td>\n",
       "      <td>1.000078e+00</td>\n",
       "      <td>1.000078e+00</td>\n",
       "    </tr>\n",
       "    <tr>\n",
       "      <th>min</th>\n",
       "      <td>-3.170784e+00</td>\n",
       "      <td>-1.733435e+00</td>\n",
       "      <td>-1.561876e+00</td>\n",
       "      <td>-1.290975e+00</td>\n",
       "      <td>-1.216859e+00</td>\n",
       "      <td>-2.067530e+00</td>\n",
       "      <td>-1.740795e+00</td>\n",
       "      <td>-1.305103e+00</td>\n",
       "      <td>-2.868816e-01</td>\n",
       "      <td>-1.211858e+00</td>\n",
       "      <td>-1.059926e+00</td>\n",
       "      <td>-7.453100e-01</td>\n",
       "      <td>-6.621407e-01</td>\n",
       "      <td>-1.113879e+00</td>\n",
       "      <td>-2.889375e+00</td>\n",
       "      <td>-3.420347e-01</td>\n",
       "      <td>-9.037617e-01</td>\n",
       "      <td>-7.514487e-01</td>\n",
       "      <td>-8.540449e-01</td>\n",
       "    </tr>\n",
       "    <tr>\n",
       "      <th>25%</th>\n",
       "      <td>-6.645138e-01</td>\n",
       "      <td>-8.676200e-01</td>\n",
       "      <td>-1.229557e-01</td>\n",
       "      <td>-1.290975e+00</td>\n",
       "      <td>-1.216859e+00</td>\n",
       "      <td>-7.050558e-01</td>\n",
       "      <td>-8.379712e-01</td>\n",
       "      <td>-1.305103e+00</td>\n",
       "      <td>-2.868816e-01</td>\n",
       "      <td>-4.014114e-01</td>\n",
       "      <td>-1.059926e+00</td>\n",
       "      <td>-7.453100e-01</td>\n",
       "      <td>-6.621407e-01</td>\n",
       "      <td>-1.113879e+00</td>\n",
       "      <td>-9.454473e-01</td>\n",
       "      <td>-3.420347e-01</td>\n",
       "      <td>-9.037617e-01</td>\n",
       "      <td>-7.514487e-01</td>\n",
       "      <td>-8.540449e-01</td>\n",
       "    </tr>\n",
       "    <tr>\n",
       "      <th>50%</th>\n",
       "      <td>3.824766e-03</td>\n",
       "      <td>-1.805477e-03</td>\n",
       "      <td>-1.229557e-01</td>\n",
       "      <td>1.404990e-01</td>\n",
       "      <td>8.217876e-01</td>\n",
       "      <td>-2.381873e-02</td>\n",
       "      <td>-4.595024e-03</td>\n",
       "      <td>1.322907e-01</td>\n",
       "      <td>-2.868816e-01</td>\n",
       "      <td>-4.014114e-01</td>\n",
       "      <td>2.851215e-01</td>\n",
       "      <td>-7.453100e-01</td>\n",
       "      <td>-6.621407e-01</td>\n",
       "      <td>1.022230e-02</td>\n",
       "      <td>2.651641e-02</td>\n",
       "      <td>-3.420347e-01</td>\n",
       "      <td>3.774546e-01</td>\n",
       "      <td>-7.514487e-01</td>\n",
       "      <td>-8.540449e-01</td>\n",
       "    </tr>\n",
       "    <tr>\n",
       "      <th>75%</th>\n",
       "      <td>6.721634e-01</td>\n",
       "      <td>8.640091e-01</td>\n",
       "      <td>1.315964e+00</td>\n",
       "      <td>1.404990e-01</td>\n",
       "      <td>8.217876e-01</td>\n",
       "      <td>6.574183e-01</td>\n",
       "      <td>8.982292e-01</td>\n",
       "      <td>1.322907e-01</td>\n",
       "      <td>-2.868816e-01</td>\n",
       "      <td>4.090356e-01</td>\n",
       "      <td>2.851215e-01</td>\n",
       "      <td>7.406504e-01</td>\n",
       "      <td>1.510253e+00</td>\n",
       "      <td>1.134323e+00</td>\n",
       "      <td>9.984802e-01</td>\n",
       "      <td>-3.420347e-01</td>\n",
       "      <td>3.774546e-01</td>\n",
       "      <td>7.402226e-01</td>\n",
       "      <td>1.170899e+00</td>\n",
       "    </tr>\n",
       "    <tr>\n",
       "      <th>max</th>\n",
       "      <td>4.013856e+00</td>\n",
       "      <td>1.729824e+00</td>\n",
       "      <td>1.315964e+00</td>\n",
       "      <td>1.571973e+00</td>\n",
       "      <td>8.217876e-01</td>\n",
       "      <td>2.019892e+00</td>\n",
       "      <td>1.731605e+00</td>\n",
       "      <td>1.569684e+00</td>\n",
       "      <td>3.485759e+00</td>\n",
       "      <td>5.271718e+00</td>\n",
       "      <td>1.630169e+00</td>\n",
       "      <td>2.226611e+00</td>\n",
       "      <td>1.510253e+00</td>\n",
       "      <td>1.134323e+00</td>\n",
       "      <td>2.942408e+00</td>\n",
       "      <td>2.923680e+00</td>\n",
       "      <td>1.658671e+00</td>\n",
       "      <td>2.231894e+00</td>\n",
       "      <td>1.170899e+00</td>\n",
       "    </tr>\n",
       "  </tbody>\n",
       "</table>\n",
       "</div>"
      ],
      "text/plain": [
       "                 0             1             2             3             4   \\\n",
       "count  6.378000e+03  6.378000e+03  6.378000e+03  6.378000e+03  6.378000e+03   \n",
       "mean  -1.693360e-16  5.458858e-16 -7.686963e-17 -4.372656e-17  1.671079e-17   \n",
       "std    1.000078e+00  1.000078e+00  1.000078e+00  1.000078e+00  1.000078e+00   \n",
       "min   -3.170784e+00 -1.733435e+00 -1.561876e+00 -1.290975e+00 -1.216859e+00   \n",
       "25%   -6.645138e-01 -8.676200e-01 -1.229557e-01 -1.290975e+00 -1.216859e+00   \n",
       "50%    3.824766e-03 -1.805477e-03 -1.229557e-01  1.404990e-01  8.217876e-01   \n",
       "75%    6.721634e-01  8.640091e-01  1.315964e+00  1.404990e-01  8.217876e-01   \n",
       "max    4.013856e+00  1.729824e+00  1.315964e+00  1.571973e+00  8.217876e-01   \n",
       "\n",
       "                 5             6             7             8             9   \\\n",
       "count  6.378000e+03  6.378000e+03  6.378000e+03  6.378000e+03  6.378000e+03   \n",
       "mean  -1.030499e-16  4.634459e-16 -7.241342e-17  7.297044e-17  1.002647e-17   \n",
       "std    1.000078e+00  1.000078e+00  1.000078e+00  1.000078e+00  1.000078e+00   \n",
       "min   -2.067530e+00 -1.740795e+00 -1.305103e+00 -2.868816e-01 -1.211858e+00   \n",
       "25%   -7.050558e-01 -8.379712e-01 -1.305103e+00 -2.868816e-01 -4.014114e-01   \n",
       "50%   -2.381873e-02 -4.595024e-03  1.322907e-01 -2.868816e-01 -4.014114e-01   \n",
       "75%    6.574183e-01  8.982292e-01  1.322907e-01 -2.868816e-01  4.090356e-01   \n",
       "max    2.019892e+00  1.731605e+00  1.569684e+00  3.485759e+00  5.271718e+00   \n",
       "\n",
       "                 10            11            12            13            14  \\\n",
       "count  6.378000e+03  6.378000e+03  6.378000e+03  6.378000e+03  6.378000e+03   \n",
       "mean  -5.347452e-17 -2.228105e-17 -7.352747e-17  7.018531e-17  8.021179e-17   \n",
       "std    1.000078e+00  1.000078e+00  1.000078e+00  1.000078e+00  1.000078e+00   \n",
       "min   -1.059926e+00 -7.453100e-01 -6.621407e-01 -1.113879e+00 -2.889375e+00   \n",
       "25%   -1.059926e+00 -7.453100e-01 -6.621407e-01 -1.113879e+00 -9.454473e-01   \n",
       "50%    2.851215e-01 -7.453100e-01 -6.621407e-01  1.022230e-02  2.651641e-02   \n",
       "75%    2.851215e-01  7.406504e-01  1.510253e+00  1.134323e+00  9.984802e-01   \n",
       "max    1.630169e+00  2.226611e+00  1.510253e+00  1.134323e+00  2.942408e+00   \n",
       "\n",
       "                 15            16            17            18  \n",
       "count  6.378000e+03  6.378000e+03  6.378000e+03  6.378000e+03  \n",
       "mean  -6.238694e-17  7.464152e-17 -8.021179e-17 -1.236598e-16  \n",
       "std    1.000078e+00  1.000078e+00  1.000078e+00  1.000078e+00  \n",
       "min   -3.420347e-01 -9.037617e-01 -7.514487e-01 -8.540449e-01  \n",
       "25%   -3.420347e-01 -9.037617e-01 -7.514487e-01 -8.540449e-01  \n",
       "50%   -3.420347e-01  3.774546e-01 -7.514487e-01 -8.540449e-01  \n",
       "75%   -3.420347e-01  3.774546e-01  7.402226e-01  1.170899e+00  \n",
       "max    2.923680e+00  1.658671e+00  2.231894e+00  1.170899e+00  "
      ]
     },
     "execution_count": 188,
     "metadata": {},
     "output_type": "execute_result"
    }
   ],
   "source": [
    "normed_data.describe()"
   ]
  },
  {
   "cell_type": "code",
   "execution_count": 189,
   "id": "fa0c81fd-17ca-467e-b0a8-2ca4dfc30533",
   "metadata": {},
   "outputs": [
    {
     "data": {
      "image/png": "[encoded data removed]",
      "text/plain": [
       "<Figure size 640x480 with 1 Axes>"
      ]
     },
     "metadata": {},
     "output_type": "display_data"
    }
   ],
   "source": [
    "for column in normed_data.columns:\n",
    "    normed_data[column].hist()"
   ]
  },
  {
   "cell_type": "markdown",
   "id": "b89e5de2-b19c-4229-9e75-7352123557fd",
   "metadata": {},
   "source": [
    "#### PCA\n",
    "\n",
    "Let's start by converting this data into a PCA in order to see how it shrinks down the feature space when it seeks to target 90% of the variance."
   ]
  },
  {
   "cell_type": "code",
   "execution_count": 190,
   "id": "565d5aff-49af-49e3-83fe-f7d5489c4813",
   "metadata": {},
   "outputs": [],
   "source": [
    "pca = PCA(n_components = 0.8, svd_solver = \"full\")\n",
    "pca_data = pca.fit_transform(normed_data)"
   ]
  },
  {
   "cell_type": "code",
   "execution_count": 191,
   "id": "ef185cf3-d797-4c40-84b6-ffcbb1688364",
   "metadata": {},
   "outputs": [
    {
     "name": "stdout",
     "output_type": "stream",
     "text": [
      "[0.0575473  0.05698476 0.05641867 0.05554611 0.05529435 0.05474453\n",
      " 0.05389619 0.05354437 0.05283836 0.05221989 0.05186862 0.05148582\n",
      " 0.05141653 0.05110133 0.05038873]\n"
     ]
    }
   ],
   "source": [
    "print(pca.explained_variance_ratio_)"
   ]
  },
  {
   "cell_type": "markdown",
   "id": "610f8e85-502e-4ed9-8c43-80f4a5deaf21",
   "metadata": {},
   "source": [
    "It appears that there needs to still be 15 features to keep an explained variance of more than 80%. As such, the PCA did not considerably reduce the number of features but did reduce it somewhat. Beyond that, each of the remaining features explain about 5% of the variance within. It is difficult to provide meaningful visual representation of this data as each of the 15 features include parts of the original 19 features."
   ]
  },
  {
   "cell_type": "markdown",
   "id": "7d03e404-2763-44f6-a69a-7fcd860bffb4",
   "metadata": {},
   "source": [
    "#### NMF\n",
    "\n",
    "First, however, we need to go back to our non-pca data as NMF requires non negative values.\n",
    "\n",
    "Let's try to see if we can predict categories of students from the data set. The logic of this step is that we are going to decompose this larger feature matrix into matrices. The first will include all the students as the rows and then the various categories or labels as the columns. The second one will include labels x features. The first matrix will allow us to predict which of the categories each student falls under. \n",
    "\n",
    "If we set the number of categories to the number of different final scores that the students in the set had, I am curious whether or not these categories will line up with these scores. Unfortunately, the size of this is too large for my computer to attempt.\n",
    "\n",
    "Instead, let's predict a total of 5 groups and then see how well those groups line up in terms of actual final exam score. We will take the categories that the students are sroted into, get the average of their previous exams scores, and then use that to predict the new one. We can calculate the RMSE from this value to get an idea of accuracy."
   ]
  },
  {
   "cell_type": "code",
   "execution_count": 192,
   "id": "1d002b0a-30c6-43db-bbf2-c301677cf81f",
   "metadata": {},
   "outputs": [],
   "source": [
    "def rmse(y, yp):\n",
    "    return np.sqrt(((y-yp)**2).mean())\n",
    "\n",
    "def predict_scores(scores, name):\n",
    "    predictions = scores.groupby(name)[\"Previous_Scores\"].mean()\n",
    "    return scores[name].apply(lambda x: predictions[x] )\n",
    "\n",
    "def get_rmse(scores, name):\n",
    "    predictions = predict_scores(scores, name)\n",
    "    return rmse(scores[\"Exam_Score\"],predictions)"
   ]
  },
  {
   "cell_type": "code",
   "execution_count": 199,
   "id": "301e6eb0-762b-4412-8195-087da1ab5685",
   "metadata": {},
   "outputs": [],
   "source": [
    "scores = pd.DataFrame(scores)\n",
    "scores[\"Previous_Scores\"] = data[\"Previous_Scores\"]"
   ]
  },
  {
   "cell_type": "code",
   "execution_count": 206,
   "id": "bcf33f37-0c85-455f-9410-416f918e7121",
   "metadata": {},
   "outputs": [],
   "source": [
    "train, test = train_test_split(data, test_size = 0.2, random_state = 42)\n",
    "train_scores, test_scores = train_test_split(scores, test_size = 0.2, random_state = 42)"
   ]
  },
  {
   "cell_type": "code",
   "execution_count": 207,
   "id": "fbb73355-9aa9-4c4c-873c-97fd1fa7191a",
   "metadata": {},
   "outputs": [],
   "source": [
    "nmf = NMF(n_components = 5,\n",
    "              solver = \"mu\",\n",
    "              beta_loss = \"kullback-leibler\")\n",
    "W = nmf.fit_transform(train)"
   ]
  },
  {
   "cell_type": "code",
   "execution_count": 208,
   "id": "d240b750-9544-4d97-8cde-e2fed2325cea",
   "metadata": {},
   "outputs": [
    {
     "name": "stdout",
     "output_type": "stream",
     "text": [
      "[3 2 4 ... 4 3 3]\n",
      "5102\n"
     ]
    }
   ],
   "source": [
    "predictions = W.argmax(axis = 1)\n",
    "print(predictions)\n",
    "print(len(predictions))"
   ]
  },
  {
   "cell_type": "code",
   "execution_count": 209,
   "id": "a9671e29-cd63-4941-b37a-edbd539dcd3d",
   "metadata": {},
   "outputs": [],
   "source": [
    "train_scores[\"predictions_5\"] = predictions"
   ]
  },
  {
   "cell_type": "code",
   "execution_count": 210,
   "id": "21bda0cc-7117-4cd7-9c49-25537028eb6e",
   "metadata": {},
   "outputs": [
    {
     "data": {
      "text/plain": [
       "predictions_5\n",
       "0    66.689243\n",
       "1    67.809035\n",
       "2    66.070396\n",
       "3    69.118984\n",
       "4    66.416601\n",
       "Name: Exam_Score, dtype: float64"
      ]
     },
     "execution_count": 210,
     "metadata": {},
     "output_type": "execute_result"
    }
   ],
   "source": [
    "train_scores.groupby(\"predictions_5\")[\"Exam_Score\"].mean()"
   ]
  },
  {
   "cell_type": "code",
   "execution_count": 211,
   "id": "cb64c691-2d94-459f-a700-90d140bacb28",
   "metadata": {},
   "outputs": [
    {
     "data": {
      "text/plain": [
       "predictions_5\n",
       "0    Axes(0.125,0.11;0.775x0.77)\n",
       "1    Axes(0.125,0.11;0.775x0.77)\n",
       "2    Axes(0.125,0.11;0.775x0.77)\n",
       "3    Axes(0.125,0.11;0.775x0.77)\n",
       "4    Axes(0.125,0.11;0.775x0.77)\n",
       "Name: Exam_Score, dtype: object"
      ]
     },
     "execution_count": 211,
     "metadata": {},
     "output_type": "execute_result"
    },
    {
     "data": {
      "image/png": "[encoded data removed]",
      "text/plain": [
       "<Figure size 640x480 with 1 Axes>"
      ]
     },
     "metadata": {},
     "output_type": "display_data"
    }
   ],
   "source": [
    "train_scores.groupby(\"predictions_5\")[\"Exam_Score\"].plot(kind = \"kde\")"
   ]
  },
  {
   "cell_type": "code",
   "execution_count": 212,
   "id": "0ced3e0c-5e5c-42d7-a1a3-eaafbc52f36d",
   "metadata": {},
   "outputs": [
    {
     "name": "stdout",
     "output_type": "stream",
     "text": [
      "10.191389831996302\n",
      "16.295169108060527\n"
     ]
    }
   ],
   "source": [
    "print(get_rmse(train_scores, \"predictions_5\"))\n",
    "print(rmse(train_scores[\"Previous_Scores\"], scores[\"Exam_Score\"]) )"
   ]
  },
  {
   "cell_type": "markdown",
   "id": "8965566a-b335-422e-bf5b-4b7598bb6354",
   "metadata": {},
   "source": [
    "However, it does not seem like this method is scaling well onto exam score and is likely that the categories that the NNM is finding are more related to the type of student that each student is, rather than the final exam score that they each would have. This is shown by each of the predicted groups having close average exam scores, as shown in the table above. However, what happens if we try this for different numbers of groups? Does this table improve?\n",
    "\n",
    "Visually, it does not seem like the labels are mapping well onto final exam score. However, the RMSE of using labels and previous exam score to map onto future exam score of 10.05 implies that it is at least slightly working. To compare this, the RMSE of simply comparing previous scores to Exam scores is much higher. What happens if we raise the number of labels?"
   ]
  },
  {
   "cell_type": "code",
   "execution_count": 214,
   "id": "3bc47c1b-4ac7-459b-87bc-1ca1bb200a03",
   "metadata": {},
   "outputs": [
    {
     "name": "stderr",
     "output_type": "stream",
     "text": [
      "/home/jkagie/.local/lib/python3.10/site-packages/sklearn/decomposition/_nmf.py:1759: ConvergenceWarning: Maximum number of iterations 200 reached. Increase it to improve convergence.\n",
      "  warnings.warn(\n"
     ]
    },
    {
     "data": {
      "text/plain": [
       "predictions_7\n",
       "0    64.176471\n",
       "1    67.374172\n",
       "2    66.214953\n",
       "3    68.970696\n",
       "4    66.371330\n",
       "5    67.472379\n",
       "6    65.222222\n",
       "Name: Exam_Score, dtype: float64"
      ]
     },
     "execution_count": 214,
     "metadata": {},
     "output_type": "execute_result"
    }
   ],
   "source": [
    "nmf = NMF(n_components = 7,\n",
    "              solver = \"mu\",\n",
    "              beta_loss = \"kullback-leibler\")\n",
    "W = nmf.fit_transform(train)\n",
    "predictions = W.argmax(axis = 1)\n",
    "train_scores[\"predictions_7\"] = predictions\n",
    "train_scores.groupby(\"predictions_7\")[\"Exam_Score\"].mean()"
   ]
  },
  {
   "cell_type": "code",
   "execution_count": 215,
   "id": "733eaa42-9999-442c-8c1a-d23ed2697299",
   "metadata": {},
   "outputs": [
    {
     "data": {
      "text/plain": [
       "predictions_7\n",
       "0    Axes(0.125,0.11;0.775x0.77)\n",
       "1    Axes(0.125,0.11;0.775x0.77)\n",
       "2    Axes(0.125,0.11;0.775x0.77)\n",
       "3    Axes(0.125,0.11;0.775x0.77)\n",
       "4    Axes(0.125,0.11;0.775x0.77)\n",
       "5    Axes(0.125,0.11;0.775x0.77)\n",
       "6    Axes(0.125,0.11;0.775x0.77)\n",
       "Name: Exam_Score, dtype: object"
      ]
     },
     "execution_count": 215,
     "metadata": {},
     "output_type": "execute_result"
    },
    {
     "data": {
      "image/png": "[encoded data removed]",
      "text/plain": [
       "<Figure size 640x480 with 1 Axes>"
      ]
     },
     "metadata": {},
     "output_type": "display_data"
    }
   ],
   "source": [
    "train_scores.groupby(\"predictions_7\")[\"Exam_Score\"].plot(kind = \"kde\")"
   ]
  },
  {
   "cell_type": "code",
   "execution_count": 216,
   "id": "4a1fb7a2-f51c-40c8-874f-e045b2891dc2",
   "metadata": {},
   "outputs": [
    {
     "name": "stdout",
     "output_type": "stream",
     "text": [
      "9.777439715409242\n"
     ]
    }
   ],
   "source": [
    "print(get_rmse(train_scores, \"predictions_7\"))"
   ]
  },
  {
   "cell_type": "code",
   "execution_count": 217,
   "id": "aa2d759a-c6ab-47c2-874c-1630172d1108",
   "metadata": {},
   "outputs": [
    {
     "name": "stderr",
     "output_type": "stream",
     "text": [
      "/home/jkagie/.local/lib/python3.10/site-packages/sklearn/decomposition/_nmf.py:1759: ConvergenceWarning: Maximum number of iterations 200 reached. Increase it to improve convergence.\n",
      "  warnings.warn(\n"
     ]
    },
    {
     "data": {
      "text/plain": [
       "predictions_9\n",
       "0    63.833333\n",
       "1    67.164557\n",
       "2    65.918182\n",
       "3    69.006536\n",
       "4    66.555556\n",
       "5    68.125506\n",
       "6    65.608333\n",
       "7    66.771777\n",
       "8    66.422460\n",
       "Name: Exam_Score, dtype: float64"
      ]
     },
     "execution_count": 217,
     "metadata": {},
     "output_type": "execute_result"
    }
   ],
   "source": [
    "nmf = NMF(n_components = 9,\n",
    "              solver = \"mu\",\n",
    "              beta_loss = \"kullback-leibler\")\n",
    "W = nmf.fit_transform(train)\n",
    "predictions = W.argmax(axis = 1)\n",
    "train_scores[\"predictions_9\"] = predictions\n",
    "train_scores.groupby(\"predictions_9\")[\"Exam_Score\"].mean()"
   ]
  },
  {
   "cell_type": "code",
   "execution_count": 218,
   "id": "3b2daa4d-54d0-40a7-94e2-91e9fc77c73a",
   "metadata": {},
   "outputs": [
    {
     "name": "stdout",
     "output_type": "stream",
     "text": [
      "9.075742609575329\n"
     ]
    }
   ],
   "source": [
    "print(get_rmse(train_scores, \"predictions_9\"))"
   ]
  },
  {
   "cell_type": "code",
   "execution_count": 220,
   "id": "8be9cec1-72ac-4e00-9f6e-6b4cce241d76",
   "metadata": {},
   "outputs": [
    {
     "name": "stdout",
     "output_type": "stream",
     "text": [
      "9.070640024808673\n"
     ]
    }
   ],
   "source": [
    "nmf = NMF(n_components = 11,\n",
    "          solver = \"mu\",\n",
    "          beta_loss = \"kullback-leibler\", \n",
    "          max_iter = 1000)\n",
    "W = nmf.fit_transform(train)\n",
    "predictions = W.argmax(axis = 1)\n",
    "train_scores[\"predictions_11\"] = predictions\n",
    "x = train_scores.groupby(\"predictions_11\")[\"Exam_Score\"].mean()\n",
    "print(get_rmse(train_scores, \"predictions_11\"))"
   ]
  },
  {
   "cell_type": "code",
   "execution_count": 221,
   "id": "57605bea-8dd6-4530-a930-3e5bbc238821",
   "metadata": {},
   "outputs": [
    {
     "name": "stdout",
     "output_type": "stream",
     "text": [
      "9.071431288538603\n"
     ]
    }
   ],
   "source": [
    "nmf = NMF(n_components = 15,\n",
    "          solver = \"mu\",\n",
    "          beta_loss = \"kullback-leibler\", \n",
    "          max_iter = 1000)\n",
    "W = nmf.fit_transform(train)\n",
    "predictions = W.argmax(axis = 1)\n",
    "train_scores[\"predictions_15\"] = predictions\n",
    "x = train_scores.groupby(\"predictions_15\")[\"Exam_Score\"].mean()\n",
    "print(get_rmse(train_scores, \"predictions_15\"))"
   ]
  },
  {
   "cell_type": "code",
   "execution_count": 222,
   "id": "508763b0-20ba-4d87-8321-099619e61677",
   "metadata": {},
   "outputs": [
    {
     "name": "stdout",
     "output_type": "stream",
     "text": [
      "11.305853659608033\n"
     ]
    }
   ],
   "source": [
    "nmf = NMF(n_components = 21,\n",
    "          solver = \"mu\",\n",
    "          beta_loss = \"kullback-leibler\", \n",
    "          max_iter = 1000)\n",
    "W = nmf.fit_transform(train)\n",
    "predictions = W.argmax(axis = 1)\n",
    "train_scores[\"predictions_21\"] = predictions\n",
    "x = train_scores.groupby(\"predictions_21\")[\"Exam_Score\"].mean()\n",
    "print(get_rmse(train_scores, \"predictions_21\"))"
   ]
  },
  {
   "cell_type": "code",
   "execution_count": 224,
   "id": "17810c87-77ba-4b31-bf6f-cdcbcd260264",
   "metadata": {},
   "outputs": [
    {
     "name": "stdout",
     "output_type": "stream",
     "text": [
      "12.073199260158633\n"
     ]
    }
   ],
   "source": [
    "nmf = NMF(n_components = 45,\n",
    "          solver = \"mu\",\n",
    "          beta_loss = \"kullback-leibler\", \n",
    "          max_iter = 1000)\n",
    "W = nmf.fit_transform(train)\n",
    "predictions = W.argmax(axis = 1)\n",
    "train_scores[\"predictions_45\"] = predictions\n",
    "x = train_scores.groupby(\"predictions_45\")[\"Exam_Score\"].mean()\n",
    "print(get_rmse(train_scores, \"predictions_45\"))"
   ]
  },
  {
   "cell_type": "code",
   "execution_count": 226,
   "id": "f42fc5e6-59f2-43ba-9498-50f50d66655b",
   "metadata": {},
   "outputs": [
    {
     "data": {
      "image/png": "[encoded data removed]",
      "text/plain": [
       "<Figure size 640x480 with 1 Axes>"
      ]
     },
     "metadata": {},
     "output_type": "display_data"
    }
   ],
   "source": [
    "rmses = [rmse(scores[\"Previous_Scores\"], train_scores[\"Exam_Score\"]) ,get_rmse(train_scores, \"predictions_5\"),\n",
    "         get_rmse(train_scores, \"predictions_7\"), get_rmse(train_scores, \"predictions_9\"),\n",
    "         get_rmse(train_scores, \"predictions_11\"), get_rmse(train_scores, \"predictions_15\"), get_rmse(train_scores, \"predictions_21\"),\n",
    "         get_rmse(train_scores, \"predictions_45\")]\n",
    "plt.plot(rmses)\n",
    "plt.show()"
   ]
  },
  {
   "cell_type": "markdown",
   "id": "39fec0d5-b9ea-40af-af97-2dc0abbfe4f8",
   "metadata": {},
   "source": [
    "Looking at this data, it seems that the RMSE minimizes at around 15 components, with around 8 or 9 components being good enough. It goes to an RMSE of less than 9, which, given that it is predicting off previous exam scores that are worse, is quite good. It appears that the labels had considerable utility in differentiating which bucket a student came from, and then using that to account for the individual differences in test taking on the day. Note on the above plot that the x axis is not scaled, with the first value being raw predictions.\n",
    "\n",
    "Let's see how this final model does on the test data."
   ]
  },
  {
   "cell_type": "code",
   "execution_count": 227,
   "id": "d989b979-de0f-4eaf-bc44-bef35d7ad2fa",
   "metadata": {},
   "outputs": [
    {
     "name": "stdout",
     "output_type": "stream",
     "text": [
      "9.42645194674294\n"
     ]
    },
    {
     "name": "stderr",
     "output_type": "stream",
     "text": [
      "/home/jkagie/.local/lib/python3.10/site-packages/sklearn/decomposition/_nmf.py:1759: ConvergenceWarning: Maximum number of iterations 200 reached. Increase it to improve convergence.\n",
      "  warnings.warn(\n"
     ]
    }
   ],
   "source": [
    "nmf = NMF(n_components = 9,\n",
    "              solver = \"mu\",\n",
    "              beta_loss = \"kullback-leibler\")\n",
    "nmf.fit(train)\n",
    "W = nmf.transform(test)\n",
    "predictions = W.argmax(axis = 1)\n",
    "test_scores[\"predictions_9\"] = predictions\n",
    "x = test_scores.groupby(\"predictions_9\")[\"Exam_Score\"].mean()\n",
    "print(get_rmse(test_scores, \"predictions_9\"))"
   ]
  },
  {
   "cell_type": "markdown",
   "id": "3b6ab7d5-1daa-42d2-9ffc-a353f52a415f",
   "metadata": {},
   "source": [
    "This is still considerably better than the naive guess of just predicting the previous score, showing that this model does have considerable utility for grouping students to be used for future predictions."
   ]
  },
  {
   "cell_type": "markdown",
   "id": "6d4683a8-4683-4e00-8055-f05cc599d530",
   "metadata": {},
   "source": [
    "#### Supervised Learning Comparison\n",
    "\n",
    "Now that we have shown that an NMF based on predicting from a previous exam score can heavily outcompete simply predicting based on the previous exam score, let's see how a linear regression will fair on this data."
   ]
  },
  {
   "cell_type": "code",
   "execution_count": 233,
   "id": "50f75b74-6a5a-4a42-97c9-2b0e90a4d1ea",
   "metadata": {},
   "outputs": [],
   "source": [
    "train_pca, test_pca = train_test_split(pca_data, test_size = 0.2, random_state = 42)"
   ]
  },
  {
   "cell_type": "code",
   "execution_count": 234,
   "id": "f598a424-7664-454c-9a1e-2a26809c23d3",
   "metadata": {},
   "outputs": [
    {
     "name": "stdout",
     "output_type": "stream",
     "text": [
      "2.8842564235401063\n"
     ]
    },
    {
     "data": {
      "text/plain": [
       "0.4646527359648529"
      ]
     },
     "execution_count": 234,
     "metadata": {},
     "output_type": "execute_result"
    }
   ],
   "source": [
    "lr = LinearRegression()\n",
    "lr.fit(train_pca, train_scores[\"Exam_Score\"])\n",
    "predictions = lr.predict(test_pca)\n",
    "print(rmse(predictions, test_scores[\"Exam_Score\"]))\n",
    "lr.score(test_pca, test_scores[\"Exam_Score\"])"
   ]
  },
  {
   "cell_type": "code",
   "execution_count": 235,
   "id": "3925502c-3b58-4d69-9c53-7029fa9ac813",
   "metadata": {},
   "outputs": [
    {
     "name": "stdout",
     "output_type": "stream",
     "text": [
      "2.078528663819354\n"
     ]
    },
    {
     "data": {
      "text/plain": [
       "0.7219775369947717"
      ]
     },
     "execution_count": 235,
     "metadata": {},
     "output_type": "execute_result"
    }
   ],
   "source": [
    "lr = LinearRegression()\n",
    "lr.fit(train, train_scores[\"Exam_Score\"])\n",
    "predictions = lr.predict(test)\n",
    "print(rmse(predictions, test_scores[\"Exam_Score\"]))\n",
    "lr.score(test, test_scores[\"Exam_Score\"])"
   ]
  },
  {
   "cell_type": "markdown",
   "id": "ae5f69fe-3ed3-4aee-b59a-683fb1273874",
   "metadata": {},
   "source": [
    "Looking at this, it is immediately obvious that the linear regression model is far more accurate than the previous model. However, this is not unexpected. This model is allowed to take into account the actual exam score when it fits its model, unlike the NMF model. \n",
    "\n",
    "The PCA supplied model has a considerably worse result than the complete data model, which again is unsurprising. Our PCA was set to only account for 80% of the variance, which is a large reduction in information in pursuit of speed and a smaller feature space. Overall, though, both models performed far ebtter than the unsupervised model. "
   ]
  },
  {
   "cell_type": "markdown",
   "id": "6f389e73-4da6-46d6-b918-738341a8c7f3",
   "metadata": {},
   "source": [
    "Future ideas: it would be interesting to see how this model worked when you accounted for the differences between the previous exams and future exams, but I did not because I did not want to use any knowledge of future exams."
   ]
  },
  {
   "cell_type": "code",
   "execution_count": null,
   "id": "bfb4f740-43b0-477d-b8b5-bc3e12948668",
   "metadata": {},
   "outputs": [],
   "source": []
  }
 ],
 "metadata": {
  "kernelspec": {
   "display_name": "Python 3 (ipykernel)",
   "language": "python",
   "name": "python3"
  },
  "language_info": {
   "codemirror_mode": {
    "name": "ipython",
    "version": 3
   },
   "file_extension": ".py",
   "mimetype": "text/x-python",
   "name": "python",
   "nbconvert_exporter": "python",
   "pygments_lexer": "ipython3",
   "version": "3.10.12"
  }
 },
 "nbformat": 4,
 "nbformat_minor": 5
}
